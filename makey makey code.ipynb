{
 "cells": [
  {
   "cell_type": "code",
   "execution_count": 1,
   "id": "b8ce11c9-ff18-412b-a526-60d1e9280df3",
   "metadata": {},
   "outputs": [
    {
     "name": "stdout",
     "output_type": "stream",
     "text": [
      "Requirement already satisfied: keyboard in c:\\users\\admin\\anaconda3\\lib\\site-packages (0.13.5)\n",
      "Note: you may need to restart the kernel to use updated packages.\n"
     ]
    }
   ],
   "source": [
    "pip install keyboard"
   ]
  },
  {
   "cell_type": "code",
   "execution_count": 2,
   "id": "b043ada3-c60b-4fbe-bf36-bd6c059e229a",
   "metadata": {},
   "outputs": [
    {
     "name": "stdout",
     "output_type": "stream",
     "text": [
      "Requirement already satisfied: pynput in c:\\users\\admin\\anaconda3\\lib\\site-packages (1.7.7)\n",
      "Requirement already satisfied: six in c:\\users\\admin\\anaconda3\\lib\\site-packages (from pynput) (1.16.0)\n",
      "Note: you may need to restart the kernel to use updated packages.\n"
     ]
    }
   ],
   "source": [
    "pip install pynput"
   ]
  },
  {
   "cell_type": "code",
   "execution_count": null,
   "id": "6ea2fc94-85fa-4094-9420-edf86d17bacf",
   "metadata": {},
   "outputs": [],
   "source": []
  },
  {
   "cell_type": "code",
   "execution_count": null,
   "id": "0c0d3a40-574a-4f4d-8456-14ad8bf5c84b",
   "metadata": {},
   "outputs": [],
   "source": [
    "from pynput.keyboard import Listener\n",
    "import time\n",
    "\n",
    "# Initialize variables\n",
    "current_expression = \"\"\n",
    "score = 0\n",
    "\n",
    "# Function to evaluate the math expression\n",
    "def evaluate_expression(expression):\n",
    "    try:\n",
    "        return eval(expression)\n",
    "    except:\n",
    "        return None\n",
    "\n",
    "# Function to process key presses\n",
    "def on_press(key):\n",
    "    global current_expression, score\n",
    "\n",
    "    try:\n",
    "        key_char = key.char  # Get the key character\n",
    "        if key_char in '0123456789+-':\n",
    "            current_expression += key_char  # Add to the current expression\n",
    "            print(f\"Expression: {current_expression}\")\n",
    "        elif key_char == '=':  # Evaluate the expression\n",
    "            result = evaluate_expression(current_expression)\n",
    "            if result is not None:\n",
    "                print(f\"Result: {current_expression} = {result}\")\n",
    "                score += 1\n",
    "                print(f\"Score: {score}\")\n",
    "            else:\n",
    "                print(\"Invalid expression!\")\n",
    "            current_expression = \"\"  # Reset for the next round\n",
    "    except AttributeError:\n",
    "        pass\n",
    "\n",
    "# Function to handle key release (not needed here but required by Listener)\n",
    "def on_release(key):\n",
    "    pass\n",
    "\n",
    "# Start listening to Makey Makey inputs\n",
    "print(\"Game Started! Use the Makey Makey buttons.\")\n",
    "with Listener(on_press=on_press, on_release=on_release) as listener:\n",
    "    listener.join()"
   ]
  },
  {
   "cell_type": "code",
   "execution_count": null,
   "id": "a300e92f-fe71-4cc6-9da7-ca3566fcff3a",
   "metadata": {},
   "outputs": [],
   "source": [
    "from pynput.keyboard import Listener\n",
    "import time\n",
    "import threading\n",
    "\n",
    "# Initialize variables\n",
    "current_expression = \"\"\n",
    "score = 0\n",
    "timer = None\n",
    "\n",
    "# Function to evaluate the math expression\n",
    "def evaluate_expression(expression):\n",
    "    try:\n",
    "        return eval(expression)\n",
    "    except:\n",
    "        return None\n",
    "\n",
    "# Function to process key presses\n",
    "def on_press(key):\n",
    "    global current_expression, score, timer\n",
    "\n",
    "    try:\n",
    "        key_char = key.char  # Get the key character\n",
    "        if key_char in '0123456789+-*/':\n",
    "            current_expression += key_char  # Add to the current expression\n",
    "            print(f\"Expression: {current_expression}\")\n",
    "            \n",
    "            # Reset timer if a new key is pressed\n",
    "            reset_timer()\n",
    "        elif key_char == '=':  # Evaluate the expression\n",
    "            result = evaluate_expression(current_expression)\n",
    "            if result is not None:\n",
    "                print(f\"Result: {current_expression} = {result}\")\n",
    "                score += 1\n",
    "                print(f\"Score: {score}\")\n",
    "            else:\n",
    "                print(\"Invalid expression!\")\n",
    "            current_expression = \"\"  # Reset for the next round\n",
    "            reset_timer()\n",
    "    except AttributeError:\n",
    "        # Allow the user to quit with ESC\n",
    "        if key == key.esc:\n",
    "            print(\"Exiting game...\")\n",
    "            return False\n",
    "\n",
    "# Function to handle key release (not needed but required by Listener)\n",
    "def on_release(key):\n",
    "    pass\n",
    "\n",
    "# Timer function to reset the expression after timeout\n",
    "def reset_timer():\n",
    "    global timer, current_expression\n",
    "    if timer:\n",
    "        timer.cancel()\n",
    "    timer = threading.Timer(10, timeout_reset)\n",
    "    timer.start()\n",
    "\n",
    "# Function to clear the expression after timeout\n",
    "def timeout_reset():\n",
    "    global current_expression\n",
    "    print(\"\\nTime's up! Try again.\")\n",
    "    current_expression = \"\"\n",
    "\n",
    "# Start listening to Makey Makey inputs\n",
    "print(\"Game Started! Use the Makey Makey buttons. Press ESC to exit.\")\n",
    "with Listener(on_press=on_press, on_release=on_release) as listener:\n",
    "    listener.join()\n"
   ]
  },
  {
   "cell_type": "code",
   "execution_count": null,
   "id": "ab4c47cb-d3c2-44b5-b746-794c4a4bb791",
   "metadata": {},
   "outputs": [],
   "source": []
  },
  {
   "cell_type": "code",
   "execution_count": null,
   "id": "d627a944-3e0b-459c-bfd6-589f4fa95b79",
   "metadata": {},
   "outputs": [],
   "source": []
  },
  {
   "cell_type": "code",
   "execution_count": null,
   "id": "6e46d697-959d-4379-83dd-cea4a128d8c4",
   "metadata": {},
   "outputs": [],
   "source": []
  },
  {
   "cell_type": "code",
   "execution_count": null,
   "id": "081ad9a1-161c-4feb-9c69-d854520c1654",
   "metadata": {},
   "outputs": [],
   "source": []
  },
  {
   "cell_type": "code",
   "execution_count": null,
   "id": "944e6c2f-110c-4c20-8a94-18484c633011",
   "metadata": {},
   "outputs": [],
   "source": []
  },
  {
   "cell_type": "code",
   "execution_count": null,
   "id": "fad23f7b-6e39-46fc-85b9-9b98afe7f0e3",
   "metadata": {},
   "outputs": [],
   "source": []
  },
  {
   "cell_type": "code",
   "execution_count": null,
   "id": "2ed3e553-5e32-4cdd-9b24-6b7562d530b6",
   "metadata": {},
   "outputs": [],
   "source": []
  },
  {
   "cell_type": "code",
   "execution_count": null,
   "id": "462f63e4-a17f-487f-ac49-ed491184e9f3",
   "metadata": {},
   "outputs": [],
   "source": []
  },
  {
   "cell_type": "code",
   "execution_count": null,
   "id": "d7d03ab8-74e3-468e-9bac-7efa92c49566",
   "metadata": {},
   "outputs": [],
   "source": []
  },
  {
   "cell_type": "code",
   "execution_count": null,
   "id": "87b8c883-066b-40ea-a7cc-ff1d1e341e72",
   "metadata": {},
   "outputs": [],
   "source": []
  },
  {
   "cell_type": "code",
   "execution_count": null,
   "id": "b28657c1-4181-49f8-93d3-05cca5b57502",
   "metadata": {},
   "outputs": [],
   "source": []
  },
  {
   "cell_type": "code",
   "execution_count": null,
   "id": "00e66956-9a92-4c1d-a508-ba5b01710c90",
   "metadata": {},
   "outputs": [],
   "source": []
  },
  {
   "cell_type": "code",
   "execution_count": null,
   "id": "787b8036-648d-45b6-983f-1f2b717cff9d",
   "metadata": {},
   "outputs": [],
   "source": []
  },
  {
   "cell_type": "code",
   "execution_count": 17,
   "id": "cb92aa68-947c-4fdf-a55f-217519ead7dd",
   "metadata": {},
   "outputs": [
    {
     "name": "stdout",
     "output_type": "stream",
     "text": [
      "Touch the fruits connected to your Makey Makey! Press 'q' to quit.\n",
      "Exiting piano...\n"
     ]
    }
   ],
   "source": [
    "import pygame\n",
    "import keyboard\n",
    "pygame.mixer.init()\n",
    "piano_keys = {\n",
    "    'up': 'C4.wav',      # Up arrow key\n",
    "    'down': 'D4.wav',    # Down arrow key\n",
    "    'left': 'E4.wav',    # Left arrow key\n",
    "    'right': 'F4.wav',   # Right arrow key\n",
    "    'space': 'G4.wav',   # Space bar\n",
    "    'w': 'A4.wav',       # W key\n",
    "    'a': 'B4.wav',       # A key\n",
    "}\n",
    "sounds = {key: pygame.mixer.Sound(f\"sounds/{sound}\") for key, sound in piano_keys.items()}\n",
    "\n",
    "def play_fruit_piano():\n",
    "    print(\"Touch the fruits connected to your Makey Makey! Press 'q' to quit.\")\n",
    "    try:\n",
    "        while True:\n",
    "            for key in piano_keys:\n",
    "                if keyboard.is_pressed(key):  \n",
    "                    sounds[key].play()  \n",
    "                    pygame.time.wait(200)  \n",
    "            if keyboard.is_pressed('q'):  \n",
    "                print(\"Exiting piano...\")\n",
    "                break\n",
    "    except KeyboardInterrupt:\n",
    "        print(\"Program interrupted manually.\")\n",
    "\n",
    "if __name__ == \"__main__\":\n",
    "    play_fruit_piano()\n"
   ]
  },
  {
   "cell_type": "code",
   "execution_count": 1,
   "id": "fc323897-60d2-4aa8-b6b0-79db6f95020b",
   "metadata": {},
   "outputs": [
    {
     "name": "stdout",
     "output_type": "stream",
     "text": [
      "Requirement already satisfied: pygame in c:\\users\\admin\\anaconda3\\lib\\site-packages (2.6.1)\n",
      "Note: you may need to restart the kernel to use updated packages.\n"
     ]
    }
   ],
   "source": [
    "pip install pygame"
   ]
  },
  {
   "cell_type": "code",
   "execution_count": 2,
   "id": "34c101ce-3010-4339-ac6c-b1f75cd0210a",
   "metadata": {},
   "outputs": [
    {
     "name": "stdout",
     "output_type": "stream",
     "text": [
      "Note: you may need to restart the kernel to use updated packages.\n"
     ]
    },
    {
     "name": "stderr",
     "output_type": "stream",
     "text": [
      "ERROR: Could not find a version that satisfies the requirement sys (from versions: none)\n",
      "ERROR: No matching distribution found for sys\n"
     ]
    }
   ],
   "source": [
    "    pip install sys"
   ]
  },
  {
   "cell_type": "code",
   "execution_count": null,
   "id": "5eb05e28-d936-4baf-a4c5-c8b37e6236f8",
   "metadata": {},
   "outputs": [],
   "source": [
    "import pygame\n",
    "import sys\n",
    "\n",
    "# Initialize Pygame\n",
    "pygame.init()\n",
    "\n",
    "# Set up screen\n",
    "screen = pygame.display.set_mode((800, 600))\n",
    "\n",
    "# Character details\n",
    "character = pygame.Rect(400, 300, 50, 50)\n",
    "character_speed = 5\n",
    "\n",
    "# Main game loop\n",
    "while True:\n",
    "    for event in pygame.event.get():\n",
    "        if event.type == pygame.QUIT:\n",
    "            pygame.quit()\n",
    "            sys.exit()\n",
    "    \n",
    "    keys = pygame.key.get_pressed()\n",
    "\n",
    "    # Makey Makey inputs correspond to arrow keys\n",
    "    if keys[pygame.K_UP]:\n",
    "        character.y -= character_speed\n",
    "    if keys[pygame.K_DOWN]:\n",
    "        character.y += character_speed\n",
    "    if keys[pygame.K_LEFT]:\n",
    "        character.x -= character_speed\n",
    "    if keys[pygame.K_RIGHT]:\n",
    "        character.x += character_speed\n",
    "\n",
    "    # Fill screen with black\n",
    "    screen.fill((0, 0, 0))\n",
    "\n",
    "    # Draw the character (a simple rectangle)\n",
    "    pygame.draw.rect(screen, (255, 0, 0), character)\n",
    "\n",
    "    # Update the display\n",
    "    pygame.display.flip()\n",
    "\n",
    "    # Frame delay\n",
    "    pygame.time.delay(30)\n"
   ]
  },
  {
   "cell_type": "code",
   "execution_count": null,
   "id": "f1ca5d83-7393-47e1-95de-d5aabf95042c",
   "metadata": {},
   "outputs": [],
   "source": []
  },
  {
   "cell_type": "code",
   "execution_count": 1,
   "id": "ec57d3a0-b9b5-4132-8243-d09383230346",
   "metadata": {},
   "outputs": [
    {
     "name": "stdout",
     "output_type": "stream",
     "text": [
      "pygame 2.6.1 (SDL 2.28.4, Python 3.12.4)\n",
      "Hello from the pygame community. https://www.pygame.org/contribute.html\n"
     ]
    }
   ],
   "source": [
    "import pygame\n",
    "import sys\n",
    "\n",
    "# Initialize pygame\n",
    "pygame.init()\n",
    "\n",
    "# Screen setup\n",
    "WIDTH, HEIGHT = 600, 300\n",
    "screen = pygame.display.set_mode((WIDTH, HEIGHT))\n",
    "pygame.display.set_caption(\"Peino - Simple Piano\")\n",
    "\n",
    "# Define colors\n",
    "WHITE = (255, 255, 255)\n",
    "BLACK = (0, 0, 0)\n",
    "GRAY = (200, 200, 200)\n",
    "\n",
    "# Load sounds\n",
    "try:\n",
    "    sounds = {\n",
    "        \"left\": pygame.mixer.Sound(\"A4.wav\"),  # Replace with real .wav files\n",
    "        \"up\": pygame.mixer.Sound(\"B4.wav\"),\n",
    "        \"right\": pygame.mixer.Sound(\"C4.wav\"),\n",
    "        \"down\": pygame.mixer.Sound(\"D4.wav\"),\n",
    "        \"space\": pygame.mixer.Sound(\"E4.wav\")\n",
    "    }\n",
    "except FileNotFoundError:\n",
    "    print(\"Error: .wav sound files are missing! Please add them to the same folder.\")\n",
    "    sys.exit()\n",
    "\n",
    "# Draw piano keys\n",
    "def draw_keys():\n",
    "    key_width = WIDTH // 5\n",
    "    keys = [\"LEFT\", \"UP\", \"RIGHT\", \"DOWN\", \"SPACE\"]\n",
    "    for i, key in enumerate(keys):\n",
    "        rect = pygame.Rect(i * key_width, 0, key_width, HEIGHT)\n",
    "        pygame.draw.rect(screen, GRAY if i % 2 == 0 else WHITE, rect)\n",
    "        pygame.draw.rect(screen, BLACK, rect, 2)\n",
    "        font = pygame.font.Font(None, 36)\n",
    "        text = font.render(key, True, BLACK)\n",
    "        screen.blit(text, (i * key_width + 20, HEIGHT // 2 - 20))\n",
    "\n",
    "# Main loop\n",
    "def main():\n",
    "    running = True\n",
    "    while running:\n",
    "        screen.fill(WHITE)\n",
    "        draw_keys()\n",
    "\n",
    "        for event in pygame.event.get():\n",
    "            if event.type == pygame.QUIT:\n",
    "                running = False\n",
    "            elif event.type == pygame.KEYDOWN:\n",
    "                if event.key == pygame.K_LEFT:\n",
    "                    sounds[\"left\"].play()\n",
    "                elif event.key == pygame.K_UP:\n",
    "                    sounds[\"up\"].play()\n",
    "                elif event.key == pygame.K_RIGHT:\n",
    "                    sounds[\"right\"].play()\n",
    "                elif event.key == pygame.K_DOWN:\n",
    "                    sounds[\"down\"].play()\n",
    "                elif event.key == pygame.K_SPACE:\n",
    "                    sounds[\"space\"].play()\n",
    "\n",
    "        pygame.display.flip()\n",
    "\n",
    "    pygame.quit()\n",
    "    sys.exit()\n",
    "\n",
    "if __name__ == \"_main_\":\n",
    "    main()"
   ]
  },
  {
   "cell_type": "code",
   "execution_count": null,
   "id": "2ee21362-41dd-434e-86b0-f3f7e0f72eac",
   "metadata": {},
   "outputs": [],
   "source": []
  },
  {
   "cell_type": "code",
   "execution_count": null,
   "id": "9f29e0db-869c-47a7-9e76-0a515e5275b1",
   "metadata": {},
   "outputs": [],
   "source": []
  },
  {
   "cell_type": "code",
   "execution_count": null,
   "id": "fa985c54-d7e3-4f98-aea8-5f02d56174ba",
   "metadata": {},
   "outputs": [],
   "source": []
  },
  {
   "cell_type": "code",
   "execution_count": 5,
   "id": "8be8adec-84db-46de-bc6f-a8918c5c6e15",
   "metadata": {},
   "outputs": [
    {
     "name": "stdout",
     "output_type": "stream",
     "text": [
      "Requirement already satisfied: mediapipe in c:\\users\\admin\\anaconda3\\lib\\site-packages (0.10.18)\n",
      "Requirement already satisfied: absl-py in c:\\users\\admin\\anaconda3\\lib\\site-packages (from mediapipe) (2.1.0)\n",
      "Requirement already satisfied: attrs>=19.1.0 in c:\\users\\admin\\anaconda3\\lib\\site-packages (from mediapipe) (23.1.0)\n",
      "Requirement already satisfied: flatbuffers>=2.0 in c:\\users\\admin\\anaconda3\\lib\\site-packages (from mediapipe) (24.3.25)\n",
      "Requirement already satisfied: jax in c:\\users\\admin\\anaconda3\\lib\\site-packages (from mediapipe) (0.4.35)\n",
      "Requirement already satisfied: jaxlib in c:\\users\\admin\\anaconda3\\lib\\site-packages (from mediapipe) (0.4.35)\n",
      "Requirement already satisfied: matplotlib in c:\\users\\admin\\anaconda3\\lib\\site-packages (from mediapipe) (3.8.4)\n",
      "Requirement already satisfied: numpy<2 in c:\\users\\admin\\anaconda3\\lib\\site-packages (from mediapipe) (1.26.4)\n",
      "Requirement already satisfied: opencv-contrib-python in c:\\users\\admin\\anaconda3\\lib\\site-packages (from mediapipe) (4.10.0.84)\n",
      "Requirement already satisfied: protobuf<5,>=4.25.3 in c:\\users\\admin\\anaconda3\\lib\\site-packages (from mediapipe) (4.25.5)\n",
      "Requirement already satisfied: sounddevice>=0.4.4 in c:\\users\\admin\\anaconda3\\lib\\site-packages (from mediapipe) (0.5.1)\n",
      "Requirement already satisfied: sentencepiece in c:\\users\\admin\\anaconda3\\lib\\site-packages (from mediapipe) (0.2.0)\n",
      "Requirement already satisfied: CFFI>=1.0 in c:\\users\\admin\\anaconda3\\lib\\site-packages (from sounddevice>=0.4.4->mediapipe) (1.16.0)\n",
      "Requirement already satisfied: ml-dtypes>=0.4.0 in c:\\users\\admin\\anaconda3\\lib\\site-packages (from jax->mediapipe) (0.4.1)\n",
      "Requirement already satisfied: opt-einsum in c:\\users\\admin\\anaconda3\\lib\\site-packages (from jax->mediapipe) (3.4.0)\n",
      "Requirement already satisfied: scipy>=1.10 in c:\\users\\admin\\anaconda3\\lib\\site-packages (from jax->mediapipe) (1.13.1)\n",
      "Requirement already satisfied: contourpy>=1.0.1 in c:\\users\\admin\\anaconda3\\lib\\site-packages (from matplotlib->mediapipe) (1.2.0)\n",
      "Requirement already satisfied: cycler>=0.10 in c:\\users\\admin\\anaconda3\\lib\\site-packages (from matplotlib->mediapipe) (0.11.0)\n",
      "Requirement already satisfied: fonttools>=4.22.0 in c:\\users\\admin\\anaconda3\\lib\\site-packages (from matplotlib->mediapipe) (4.51.0)\n",
      "Requirement already satisfied: kiwisolver>=1.3.1 in c:\\users\\admin\\anaconda3\\lib\\site-packages (from matplotlib->mediapipe) (1.4.4)\n",
      "Requirement already satisfied: packaging>=20.0 in c:\\users\\admin\\anaconda3\\lib\\site-packages (from matplotlib->mediapipe) (23.2)\n",
      "Requirement already satisfied: pillow>=8 in c:\\users\\admin\\anaconda3\\lib\\site-packages (from matplotlib->mediapipe) (10.3.0)\n",
      "Requirement already satisfied: pyparsing>=2.3.1 in c:\\users\\admin\\anaconda3\\lib\\site-packages (from matplotlib->mediapipe) (3.0.9)\n",
      "Requirement already satisfied: python-dateutil>=2.7 in c:\\users\\admin\\anaconda3\\lib\\site-packages (from matplotlib->mediapipe) (2.9.0.post0)\n",
      "Requirement already satisfied: pycparser in c:\\users\\admin\\anaconda3\\lib\\site-packages (from CFFI>=1.0->sounddevice>=0.4.4->mediapipe) (2.21)\n",
      "Requirement already satisfied: six>=1.5 in c:\\users\\admin\\anaconda3\\lib\\site-packages (from python-dateutil>=2.7->matplotlib->mediapipe) (1.16.0)\n",
      "Note: you may need to restart the kernel to use updated packages.\n"
     ]
    }
   ],
   "source": [
    "pip install mediapipe "
   ]
  },
  {
   "cell_type": "code",
   "execution_count": 7,
   "id": "70d8655f-b081-4024-acfa-fe6269bfb4b8",
   "metadata": {},
   "outputs": [
    {
     "ename": "ImportError",
     "evalue": "DLL load failed while importing _framework_bindings: A dynamic link library (DLL) initialization routine failed.",
     "output_type": "error",
     "traceback": [
      "\u001b[1;31m---------------------------------------------------------------------------\u001b[0m",
      "\u001b[1;31mImportError\u001b[0m                               Traceback (most recent call last)",
      "Cell \u001b[1;32mIn[7], line 2\u001b[0m\n\u001b[0;32m      1\u001b[0m \u001b[38;5;28;01mimport\u001b[39;00m \u001b[38;5;21;01mcv2\u001b[39;00m\n\u001b[1;32m----> 2\u001b[0m \u001b[38;5;28;01mimport\u001b[39;00m \u001b[38;5;21;01mmediapipe\u001b[39;00m \u001b[38;5;28;01mas\u001b[39;00m \u001b[38;5;21;01mmp\u001b[39;00m\n\u001b[0;32m      3\u001b[0m \u001b[38;5;28;01mimport\u001b[39;00m \u001b[38;5;21;01mpyautogui\u001b[39;00m\n\u001b[0;32m      4\u001b[0m \u001b[38;5;66;03m# Initialize Mediapipe hands\u001b[39;00m\n",
      "File \u001b[1;32m~\\anaconda3\\Lib\\site-packages\\mediapipe\\__init__.py:15\u001b[0m\n\u001b[0;32m      1\u001b[0m \u001b[38;5;66;03m# Copyright 2019 - 2022 The MediaPipe Authors.\u001b[39;00m\n\u001b[0;32m      2\u001b[0m \u001b[38;5;66;03m#\u001b[39;00m\n\u001b[0;32m      3\u001b[0m \u001b[38;5;66;03m# Licensed under the Apache License, Version 2.0 (the \"License\");\u001b[39;00m\n\u001b[1;32m   (...)\u001b[0m\n\u001b[0;32m     12\u001b[0m \u001b[38;5;66;03m# See the License for the specific language governing permissions and\u001b[39;00m\n\u001b[0;32m     13\u001b[0m \u001b[38;5;66;03m# limitations under the License.\u001b[39;00m\n\u001b[1;32m---> 15\u001b[0m \u001b[38;5;28;01mfrom\u001b[39;00m \u001b[38;5;21;01mmediapipe\u001b[39;00m\u001b[38;5;21;01m.\u001b[39;00m\u001b[38;5;21;01mpython\u001b[39;00m \u001b[38;5;28;01mimport\u001b[39;00m \u001b[38;5;241m*\u001b[39m\n\u001b[0;32m     16\u001b[0m \u001b[38;5;28;01mimport\u001b[39;00m \u001b[38;5;21;01mmediapipe\u001b[39;00m\u001b[38;5;21;01m.\u001b[39;00m\u001b[38;5;21;01mpython\u001b[39;00m\u001b[38;5;21;01m.\u001b[39;00m\u001b[38;5;21;01msolutions\u001b[39;00m \u001b[38;5;28;01mas\u001b[39;00m \u001b[38;5;21;01msolutions\u001b[39;00m \n\u001b[0;32m     17\u001b[0m \u001b[38;5;28;01mimport\u001b[39;00m \u001b[38;5;21;01mmediapipe\u001b[39;00m\u001b[38;5;21;01m.\u001b[39;00m\u001b[38;5;21;01mtasks\u001b[39;00m\u001b[38;5;21;01m.\u001b[39;00m\u001b[38;5;21;01mpython\u001b[39;00m \u001b[38;5;28;01mas\u001b[39;00m \u001b[38;5;21;01mtasks\u001b[39;00m\n",
      "File \u001b[1;32m~\\anaconda3\\Lib\\site-packages\\mediapipe\\python\\__init__.py:17\u001b[0m\n\u001b[0;32m      1\u001b[0m \u001b[38;5;66;03m# Copyright 2020-2021 The MediaPipe Authors.\u001b[39;00m\n\u001b[0;32m      2\u001b[0m \u001b[38;5;66;03m#\u001b[39;00m\n\u001b[0;32m      3\u001b[0m \u001b[38;5;66;03m# Licensed under the Apache License, Version 2.0 (the \"License\");\u001b[39;00m\n\u001b[1;32m   (...)\u001b[0m\n\u001b[0;32m     12\u001b[0m \u001b[38;5;66;03m# See the License for the specific language governing permissions and\u001b[39;00m\n\u001b[0;32m     13\u001b[0m \u001b[38;5;66;03m# limitations under the License.\u001b[39;00m\n\u001b[0;32m     15\u001b[0m \u001b[38;5;124;03m\"\"\"MediaPipe Python API.\"\"\"\u001b[39;00m\n\u001b[1;32m---> 17\u001b[0m \u001b[38;5;28;01mfrom\u001b[39;00m \u001b[38;5;21;01mmediapipe\u001b[39;00m\u001b[38;5;21;01m.\u001b[39;00m\u001b[38;5;21;01mpython\u001b[39;00m\u001b[38;5;21;01m.\u001b[39;00m\u001b[38;5;21;01m_framework_bindings\u001b[39;00m \u001b[38;5;28;01mimport\u001b[39;00m model_ckpt_util\n\u001b[0;32m     18\u001b[0m \u001b[38;5;28;01mfrom\u001b[39;00m \u001b[38;5;21;01mmediapipe\u001b[39;00m\u001b[38;5;21;01m.\u001b[39;00m\u001b[38;5;21;01mpython\u001b[39;00m\u001b[38;5;21;01m.\u001b[39;00m\u001b[38;5;21;01m_framework_bindings\u001b[39;00m \u001b[38;5;28;01mimport\u001b[39;00m resource_util\n\u001b[0;32m     19\u001b[0m \u001b[38;5;28;01mfrom\u001b[39;00m \u001b[38;5;21;01mmediapipe\u001b[39;00m\u001b[38;5;21;01m.\u001b[39;00m\u001b[38;5;21;01mpython\u001b[39;00m\u001b[38;5;21;01m.\u001b[39;00m\u001b[38;5;21;01m_framework_bindings\u001b[39;00m\u001b[38;5;21;01m.\u001b[39;00m\u001b[38;5;21;01mcalculator_graph\u001b[39;00m \u001b[38;5;28;01mimport\u001b[39;00m CalculatorGraph\n",
      "\u001b[1;31mImportError\u001b[0m: DLL load failed while importing _framework_bindings: A dynamic link library (DLL) initialization routine failed."
     ]
    }
   ],
   "source": [
    "import cv2\n",
    "import mediapipe as mp\n",
    "import pyautogui\n",
    "# Initialize Mediapipe hands\n",
    "mp_hands = mp.solutions.hands\n",
    "hands = mp_hands.Hands(max_num_hands=1, min_detection_confidence=0.7)\n",
    "\n",
    "# Initialize webcam\n",
    "cap = cv2.VideoCapture(0)\n",
    "\n",
    "def count_fingers(hand_landmarks):\n",
    "    # Count the number of extended fingers\n",
    "    finger_tips = [8, 12, 16, 20]  # Index, Middle, Ring, Pinky\n",
    "    extended_fingers = 0\n",
    "\n",
    "    # Check if each finger is extended\n",
    "    for tip in finger_tips:\n",
    "        if hand_landmarks.landmark[tip].y < hand_landmarks.landmark[tip - 2].y:\n",
    "            extended_fingers += 1\n",
    "\n",
    "    return extended_fingers\n",
    "\n",
    "while True:\n",
    "    ret, frame = cap.read()\n",
    "    if not ret:\n",
    "        break\n",
    "\n",
    "    # Flip the frame horizontally for a later selfie-view display\n",
    "    frame = cv2.flip(frame, 1)\n",
    "\n",
    "    # Convert the BGR image to RGB\n",
    "    rgb_frame = cv2.cvtColor(frame, cv2.COLOR_BGR2RGB)\n",
    "    result = hands.process(rgb_frame)\n",
    "\n",
    "    if result.multi_hand_landmarks:\n",
    "        for hand_landmarks in result.multi_hand_landmarks:\n",
    "            extended_fingers = count_fingers(hand_landmarks)\n",
    "\n",
    "            # Control the game based on the number of extended fingers\n",
    "            if extended_fingers == 0:\n",
    "                print(\"Do nothing\")\n",
    "            elif extended_fingers == 1:\n",
    "                print(\"Jump\")\n",
    "                pyautogui.press('up')  # Simulate up arrow key press\n",
    "            elif extended_fingers == 2:\n",
    "                print(\"Bend or Scroll\")\n",
    "                pyautogui.press('down')  # Simulate down arrow key press\n",
    "            elif extended_fingers == 3:\n",
    "                print(\"Turn Right\")\n",
    "                pyautogui.press('right')  # Simulate right arrow key press\n",
    "            elif extended_fingers == 4:\n",
    "                print(\"Turn Left\")\n",
    "                pyautogui.press('left')# Simulate left arrow key press\n",
    "        \n",
    "\n",
    "            # Draw hand landmarks\n",
    "            mp.solutions.drawing_utils.draw_landmarks(frame, hand_landmarks, mp_hands.HAND_CONNECTIONS)\n",
    "\n",
    "    # Show the frame\n",
    "    cv2.imshow('Hand Gesture Control for Subway Surfers', frame)\n",
    "\n",
    "    # Exit on ESC key\n",
    "    if cv2.waitKey(1) & 0xFF == 27:\n",
    "        break\n",
    "\n",
    "# Release resources\n",
    "cap.release()\n",
    "cv2.destroyAllWindows()"
   ]
  },
  {
   "cell_type": "code",
   "execution_count": null,
   "id": "6cc39e13-1dfd-4b40-b621-edc0f2c67f48",
   "metadata": {},
   "outputs": [],
   "source": []
  }
 ],
 "metadata": {
  "kernelspec": {
   "display_name": "Python 3 (ipykernel)",
   "language": "python",
   "name": "python3"
  },
  "language_info": {
   "codemirror_mode": {
    "name": "ipython",
    "version": 3
   },
   "file_extension": ".py",
   "mimetype": "text/x-python",
   "name": "python",
   "nbconvert_exporter": "python",
   "pygments_lexer": "ipython3",
   "version": "3.12.4"
  }
 },
 "nbformat": 4,
 "nbformat_minor": 5
}
